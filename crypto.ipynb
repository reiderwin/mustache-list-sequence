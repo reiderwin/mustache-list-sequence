{
 "cells": [
  {
   "cell_type": "code",
   "execution_count": null,
   "id": "f294037e",
   "metadata": {},
   "outputs": [],
   "source": [
    "# Import Dependenices \n",
    "import numpy as np \n",
    "import matplotlib.pyplot as plt\n",
    "import seaborn as sns\n",
    "# seaborn style\n",
    "sns.set_style('whitegrid')\n",
    "# Import More Dependenices \n",
    "%matplotlib inline\n",
    "import matplotlib\n",
    "from datetime import datetime\n",
    "# warnings \n",
    "import warnings\n",
    "warnings.filterwarnings(\"ignore\")\n",
    "\n",
    "# Dependencies and Setup\n",
    "import pandas as pd\n",
    "import scipy.stats as st\n",
    "import json \n",
    "import csv"
   ]
  },
  {
   "cell_type": "code",
   "execution_count": null,
   "id": "a3b52d93",
   "metadata": {},
   "outputs": [],
   "source": [
    "#Read csv XRP\n",
    "xrp_csv = pd.read_csv(\"resources/XRPUSD.csv\")\n",
    "xrp_csv.head()"
   ]
  },
  {
   "cell_type": "code",
   "execution_count": null,
   "id": "7418bc63",
   "metadata": {},
   "outputs": [],
   "source": [
    "# ethereum\n",
    "eth_csv = pd.read_csv(\"resources/ETHUSD.csv\")\n",
    "eth_csv.head()"
   ]
  },
  {
   "cell_type": "code",
   "execution_count": null,
   "id": "170e405f",
   "metadata": {},
   "outputs": [],
   "source": [
    "# dogecoin \n",
    "ltc_csv = pd.read_csv(\"resources/LTCUSD.csv\")\n",
    "ltc_csv.head()"
   ]
  },
  {
   "cell_type": "code",
   "execution_count": null,
   "id": "7e061020",
   "metadata": {},
   "outputs": [],
   "source": [
    "#Merge XRP & BTC\n",
    "combined_xrp_btc_df = pd.merge(xrp_csv, btc_csv, on=[\"unix\",\"date\"])\n",
    "combined_xrp_btc_df.head()"
   ]
  },
  {
   "cell_type": "code",
   "execution_count": null,
   "id": "55fb1bf6",
   "metadata": {},
   "outputs": [],
   "source": [
    "#rename columns \n",
    "combined_xrp_btc_df = combined_xrp_btc_df.rename(columns={\"symbol_x\":\"XRP Symbol\",\n",
    "                                                          \"open_x\":\"XRP Open\",\n",
    "                                                          \"high_x\":\"XRP High\", \n",
    "                                                          \"low_x\":\"XRP Low\",\n",
    "                                                         \"close_x\": \"XRP Close\",\n",
    "                                                         \"Volume USD_x\":\"XRP Volume USD\",\n",
    "                                                         \"symbol_y\":\"BTC Symbol\",\n",
    "                                                          \"open_y\":\"BTC Open\",\n",
    "                                                          \"high_y\":\"BTC High\", \n",
    "                                                          \"low_y\":\"BTC Low\",\n",
    "                                                         \"close_y\": \"BTC CLose\",\n",
    "                                                         \"Volume USD_y\":\"BTC Volume USD\"})\n",
    "combined_xrp_btc_df"
   ]
  },
  {
   "cell_type": "code",
   "execution_count": null,
   "id": "9deb6c28",
   "metadata": {},
   "outputs": [],
   "source": [
    "combined_three_df = pd.merge(combined_xrp_btc_df, eth_csv, on=[\"unix\",\"date\"])\n",
    "combined_three_df.head()"
   ]
  },
  {
   "cell_type": "code",
   "execution_count": null,
   "id": "ddd31d34",
   "metadata": {},
   "outputs": [],
   "source": [
    "#rename columns \n",
    "combined_three_df = combined_three_df.rename(columns={\"symbol\":\"ETH Symbol\",\n",
    "                                                          \"open\":\"ETH Open\",\n",
    "                                                          \"high\":\"ETH High\", \n",
    "                                                          \"low\":\"ETH Low\",\n",
    "                                                         \"close\": \"ETH Close\",\n",
    "                                                         \"Volume USD\":\"ETH Volume USD\",\n",
    "                                                         })\n",
    "combined_xrp_btc_df\n"
   ]
  },
  {
   "cell_type": "code",
   "execution_count": null,
   "id": "da053366",
   "metadata": {},
   "outputs": [],
   "source": [
    "#last merge\n",
    "combined_final_df = pd.merge(combined_three_df, ltc_csv, on=[\"unix\",\"date\"])\n",
    "combined_final_df.head()"
   ]
  },
  {
   "cell_type": "code",
   "execution_count": null,
   "id": "760b8577",
   "metadata": {},
   "outputs": [],
   "source": [
    "#rename columns \n",
    "combined_final_df = combined_final_df.rename(columns={\"symbol\":\"LTC Symbol\",\n",
    "                                                          \"open\":\"LTC Open\",\n",
    "                                                          \"high\":\"LTC High\", \n",
    "                                                          \"low\":\"LTC Low\",\n",
    "                                                         \"close\": \"LTC Close\",\n",
    "                                                         \"Volume USD\":\"LTC Volume USD\",\n",
    "                                                         })\n",
    "combined_final_df"
   ]
  },
  {
   "cell_type": "code",
   "execution_count": null,
   "id": "74870789",
   "metadata": {},
   "outputs": [],
   "source": [
    "#clean up columns don't need, didn't need symbols for 4 columns\n",
    "cleaned= combined_final_df.drop(columns=['unix','XRP Symbol','BTC Symbol','ETH Symbol','LTC Symbol'])\n",
    "cleaned"
   ]
  }
 ],
 "metadata": {
  "kernelspec": {
   "display_name": "Python 3 (ipykernel)",
   "language": "python",
   "name": "python3"
  },
  "language_info": {
   "codemirror_mode": {
    "name": "ipython",
    "version": 3
   },
   "file_extension": ".py",
   "mimetype": "text/x-python",
   "name": "python",
   "nbconvert_exporter": "python",
   "pygments_lexer": "ipython3",
   "version": "3.9.7"
  }
 },
 "nbformat": 4,
 "nbformat_minor": 5
}
