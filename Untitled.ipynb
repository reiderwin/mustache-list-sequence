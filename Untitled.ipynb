{
 "cells": [
  {
   "cell_type": "code",
   "execution_count": 3,
   "id": "9dab0243",
   "metadata": {},
   "outputs": [],
   "source": [
    "# Import Dependenices \n",
    "import numpy as np \n",
    "import matplotlib.pyplot as plt\n",
    "import seaborn as sns\n",
    "# seaborn style\n",
    "sns.set_style('whitegrid')\n",
    "# Import More Dependenices \n",
    "%matplotlib inline\n",
    "import matplotlib\n",
    "from datetime import datetime\n",
    "# warnings \n",
    "import warnings\n",
    "warnings.filterwarnings(\"ignore\")"
   ]
  },
  {
   "cell_type": "code",
   "execution_count": null,
   "id": "0527e253",
   "metadata": {},
   "outputs": [],
   "source": [
    "# Read CSV\n",
    "# bitcoin \n",
    "# btc_csv = \n",
    "# ethereum\n",
    "# eth_csv = \n",
    "# dogecoin \n",
    "# doge_csv = \n",
    "# xrp\n",
    "# xrp_csv = "
   ]
  }
 ],
 "metadata": {
  "kernelspec": {
   "display_name": "Python 3 (ipykernel)",
   "language": "python",
   "name": "python3"
  },
  "language_info": {
   "codemirror_mode": {
    "name": "ipython",
    "version": 3
   },
   "file_extension": ".py",
   "mimetype": "text/x-python",
   "name": "python",
   "nbconvert_exporter": "python",
   "pygments_lexer": "ipython3",
   "version": "3.9.7"
  }
 },
 "nbformat": 4,
 "nbformat_minor": 5
}
